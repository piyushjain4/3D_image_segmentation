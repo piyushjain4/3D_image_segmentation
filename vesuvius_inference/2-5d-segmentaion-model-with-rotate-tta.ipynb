{
 "cells": [
  {
   "cell_type": "markdown",
   "id": "57c3f156",
   "metadata": {
    "papermill": {
     "duration": 0.009676,
     "end_time": "2023-06-14T19:36:36.643570",
     "exception": false,
     "start_time": "2023-06-14T19:36:36.633894",
     "status": "completed"
    },
    "tags": []
   },
   "source": [
    "## summary\n",
    "\n",
    "* 2.5d segmentation\n",
    "    *  segmentation_models_pytorch \n",
    "    *  Unet\n",
    "* slide inference\n",
    "* add rotate TTA\n",
    "* used ensemble of mit_b2,mit_b3 and regnety"
   ]
  },
  {
   "cell_type": "code",
   "execution_count": 1,
   "id": "8cacfed5",
   "metadata": {
    "execution": {
     "iopub.execute_input": "2023-06-14T19:36:36.663235Z",
     "iopub.status.busy": "2023-06-14T19:36:36.662066Z",
     "iopub.status.idle": "2023-06-14T19:36:41.231994Z",
     "shell.execute_reply": "2023-06-14T19:36:41.230884Z"
    },
    "papermill": {
     "duration": 4.582746,
     "end_time": "2023-06-14T19:36:41.234975",
     "exception": false,
     "start_time": "2023-06-14T19:36:36.652229",
     "status": "completed"
    },
    "tags": []
   },
   "outputs": [],
   "source": [
    "import numpy as np\n",
    "import pandas as pd\n",
    "import scipy as sp\n",
    "from sklearn.metrics import roc_auc_score, accuracy_score, f1_score, log_loss\n",
    "import matplotlib.pyplot as plt\n",
    "import sys\n",
    "import os\n",
    "import gc\n",
    "import sys\n",
    "import pickle\n",
    "import warnings\n",
    "import math\n",
    "import time\n",
    "import random\n",
    "import argparse\n",
    "import importlib\n",
    "from tqdm.auto import tqdm\n",
    "from functools import partial\n",
    "\n",
    "import torch\n",
    "import torch.nn as nn\n",
    "from torch.utils.data import DataLoader, Dataset\n",
    "from torch.cuda.amp import autocast, GradScaler\n",
    "from torch.optim import Adam, SGD, AdamW\n",
    "from torch.optim.lr_scheduler import CosineAnnealingWarmRestarts, CosineAnnealingLR, ReduceLROnPlateau\n",
    "# import segmentation_models_pytorch as smp\n",
    "# from warmup_scheduler import GradualWarmupScheduler\n",
    "import cv2\n",
    "\n",
    "import albumentations as A\n",
    "from albumentations.pytorch import ToTensorV2\n",
    "from albumentations import ImageOnlyTransform\n",
    "\n",
    "import shutil\n",
    "from pathlib import Path\n",
    "from contextlib import contextmanager\n",
    "from collections import defaultdict, Counter\n",
    "import datetime\n",
    "import pandas as pd"
   ]
  },
  {
   "cell_type": "code",
   "execution_count": 2,
   "id": "b46cbaa1",
   "metadata": {
    "execution": {
     "iopub.execute_input": "2023-06-14T19:36:41.256621Z",
     "iopub.status.busy": "2023-06-14T19:36:41.255355Z",
     "iopub.status.idle": "2023-06-14T19:36:41.264293Z",
     "shell.execute_reply": "2023-06-14T19:36:41.263102Z"
    },
    "papermill": {
     "duration": 0.021238,
     "end_time": "2023-06-14T19:36:41.266656",
     "exception": false,
     "start_time": "2023-06-14T19:36:41.245418",
     "status": "completed"
    },
    "tags": []
   },
   "outputs": [],
   "source": [
    "from torch.cuda.amp import autocast, GradScaler\n",
    "import sys\n",
    "import time\n",
    "import torch as tc\n",
    "import random\n",
    "from torch.utils.data import DataLoader, Dataset\n",
    "import torch\n",
    "import albumentations as A\n",
    "from albumentations.pytorch import ToTensorV2\n",
    "import numpy as np\n",
    "\n",
    "from tqdm.auto import tqdm\n",
    "\n",
    "import torch\n",
    "import torch.nn as nn\n",
    "from torch.optim import AdamW\n",
    "\n",
    "from torch.utils.data import DataLoader, Dataset\n",
    "import matplotlib.pyplot as plt\n",
    "import cv2,gc\n",
    "import os,warnings"
   ]
  },
  {
   "cell_type": "code",
   "execution_count": 3,
   "id": "29bf96f2",
   "metadata": {
    "execution": {
     "iopub.execute_input": "2023-06-14T19:36:41.285799Z",
     "iopub.status.busy": "2023-06-14T19:36:41.284889Z",
     "iopub.status.idle": "2023-06-14T19:36:44.380312Z",
     "shell.execute_reply": "2023-06-14T19:36:44.379004Z"
    },
    "papermill": {
     "duration": 3.108174,
     "end_time": "2023-06-14T19:36:44.383296",
     "exception": false,
     "start_time": "2023-06-14T19:36:41.275122",
     "status": "completed"
    },
    "tags": []
   },
   "outputs": [],
   "source": [
    "sys.path.append('/kaggle/input/pretrainedmodels/pretrainedmodels-0.7.4')\n",
    "sys.path.append('/kaggle/input/efficientnet-pytorch/EfficientNet-PyTorch-master')\n",
    "sys.path.append('/kaggle/input/timm-pytorch-image-models/pytorch-image-models-master')\n",
    "sys.path.append('/kaggle/input/segmentation-models-pytorch')\n",
    "\n",
    "import segmentation_models_pytorch as smp"
   ]
  },
  {
   "cell_type": "code",
   "execution_count": 4,
   "id": "7856d4cc",
   "metadata": {
    "execution": {
     "iopub.execute_input": "2023-06-14T19:36:44.402966Z",
     "iopub.status.busy": "2023-06-14T19:36:44.402586Z",
     "iopub.status.idle": "2023-06-14T19:36:44.407594Z",
     "shell.execute_reply": "2023-06-14T19:36:44.406559Z"
    },
    "papermill": {
     "duration": 0.017692,
     "end_time": "2023-06-14T19:36:44.409932",
     "exception": false,
     "start_time": "2023-06-14T19:36:44.392240",
     "status": "completed"
    },
    "tags": []
   },
   "outputs": [],
   "source": [
    "import ssl\n",
    "ssl._create_default_https_context = ssl._create_unverified_context"
   ]
  },
  {
   "cell_type": "markdown",
   "id": "0f6a2002",
   "metadata": {
    "papermill": {
     "duration": 0.008272,
     "end_time": "2023-06-14T19:36:44.427101",
     "exception": false,
     "start_time": "2023-06-14T19:36:44.418829",
     "status": "completed"
    },
    "tags": []
   },
   "source": [
    "## configuration for our model"
   ]
  },
  {
   "cell_type": "code",
   "execution_count": 5,
   "id": "16e20e4a",
   "metadata": {
    "execution": {
     "iopub.execute_input": "2023-06-14T19:36:44.446290Z",
     "iopub.status.busy": "2023-06-14T19:36:44.445989Z",
     "iopub.status.idle": "2023-06-14T19:36:44.461256Z",
     "shell.execute_reply": "2023-06-14T19:36:44.460244Z"
    },
    "papermill": {
     "duration": 0.027815,
     "end_time": "2023-06-14T19:36:44.463670",
     "exception": false,
     "start_time": "2023-06-14T19:36:44.435855",
     "status": "completed"
    },
    "tags": []
   },
   "outputs": [],
   "source": [
    "\n",
    "class CFG:\n",
    "    # ============== comp exp name =============\n",
    "    comp_name = 'vesuvius'\n",
    "    comp_dir_path = '/kaggle/input/'\n",
    "    comp_folder_name = 'vesuvius-challenge-ink-detection'\n",
    "    comp_dataset_path = f'{comp_dir_path}{comp_folder_name}/'\n",
    "    exp_name = 'vesuvius_2d_slide_exp002'\n",
    "\n",
    "    # ============== pred target =============\n",
    "    target_size = 1\n",
    "    TTA=True\n",
    "    \n",
    "    # ============== model cfg =============\n",
    "    model_name = 'Unet'\n",
    "#     backbone = 'efficientnet-b0'\n",
    "    backbone = 'mit_b2'\n",
    "\n",
    "    in_chans = 3 # 65\n",
    "    # ============== training cfg =============\n",
    "    size = 224\n",
    "    tile_size = 224\n",
    "    stride = tile_size // 4\n",
    "\n",
    "    batch_size = 64 # 32\n",
    "    use_amp = True\n",
    "\n",
    "    scheduler = 'GradualWarmupSchedulerV2'\n",
    "    # scheduler = 'CosineAnnealingLR'\n",
    "    epochs = 6\n",
    "\n",
    "    warmup_factor = 10\n",
    "    lr = 1e-4 / warmup_factor\n",
    "\n",
    "    # ============== fold =============\n",
    "    valid_id = 2\n",
    "\n",
    "    objective_cv = 'binary'  # 'binary', 'multiclass', 'regression'\n",
    "    metric_direction = 'maximize'  # maximize, 'minimize'\n",
    "    # metrics = 'dice_coef'\n",
    "\n",
    "    # ============== fixed =============\n",
    "    pretrained = True\n",
    "    inf_weight = 'best'  # 'best'\n",
    "\n",
    "    min_lr = 1e-6\n",
    "    weight_decay = 1e-6\n",
    "    max_grad_norm = 1000\n",
    "    print_freq = 50\n",
    "    num_workers = 2\n",
    "\n",
    "    seed = 42\n",
    "\n",
    "    # ============== augmentation =============\n",
    "    train_aug_list = [\n",
    "        # A.RandomResizedCrop(\n",
    "        #     size, size, scale=(0.85, 1.0)),\n",
    "        A.Resize(size, size),\n",
    "        A.HorizontalFlip(p=0.5),\n",
    "        A.VerticalFlip(p=0.5),\n",
    "        A.RandomBrightnessContrast(p=0.75),\n",
    "        A.ShiftScaleRotate(p=0.75),\n",
    "        A.OneOf([\n",
    "                A.GaussNoise(var_limit=[10, 50]),\n",
    "                A.GaussianBlur(),\n",
    "                A.MotionBlur(),\n",
    "                ], p=0.4),\n",
    "        A.GridDistortion(num_steps=5, distort_limit=0.3, p=0.5),\n",
    "        A.CoarseDropout(max_holes=1, max_width=int(size * 0.3), max_height=int(size * 0.3), \n",
    "                        mask_fill_value=0, p=0.5),\n",
    "        # A.Cutout(max_h_size=int(size * 0.6),\n",
    "        #          max_w_size=int(size * 0.6), num_holes=1, p=1.0),\n",
    "        A.Normalize(\n",
    "            mean= [0] * in_chans,\n",
    "            std= [1] * in_chans\n",
    "        ),\n",
    "        ToTensorV2(transpose_mask=True),\n",
    "    ]\n",
    "\n",
    "    valid_aug_list = [\n",
    "        A.Resize(size, size),\n",
    "        A.Normalize(\n",
    "            mean= [0] * in_chans,\n",
    "            std= [1] * in_chans\n",
    "        ),\n",
    "        ToTensorV2(transpose_mask=True),\n",
    "    ]\n"
   ]
  },
  {
   "cell_type": "code",
   "execution_count": 6,
   "id": "9ae9cddc",
   "metadata": {
    "execution": {
     "iopub.execute_input": "2023-06-14T19:36:44.482151Z",
     "iopub.status.busy": "2023-06-14T19:36:44.481862Z",
     "iopub.status.idle": "2023-06-14T19:36:44.486583Z",
     "shell.execute_reply": "2023-06-14T19:36:44.485586Z"
    },
    "papermill": {
     "duration": 0.016332,
     "end_time": "2023-06-14T19:36:44.488825",
     "exception": false,
     "start_time": "2023-06-14T19:36:44.472493",
     "status": "completed"
    },
    "tags": []
   },
   "outputs": [],
   "source": [
    "IS_DEBUG = False\n",
    "mode = 'train' if IS_DEBUG else 'test'\n",
    "TH = 0.4"
   ]
  },
  {
   "cell_type": "code",
   "execution_count": 7,
   "id": "cd1159be",
   "metadata": {
    "execution": {
     "iopub.execute_input": "2023-06-14T19:36:44.508177Z",
     "iopub.status.busy": "2023-06-14T19:36:44.506583Z",
     "iopub.status.idle": "2023-06-14T19:36:44.577944Z",
     "shell.execute_reply": "2023-06-14T19:36:44.576934Z"
    },
    "papermill": {
     "duration": 0.083048,
     "end_time": "2023-06-14T19:36:44.580287",
     "exception": false,
     "start_time": "2023-06-14T19:36:44.497239",
     "status": "completed"
    },
    "tags": []
   },
   "outputs": [],
   "source": [
    "device = torch.device('cuda' if torch.cuda.is_available() else 'cpu')"
   ]
  },
  {
   "cell_type": "markdown",
   "id": "c703970d",
   "metadata": {
    "papermill": {
     "duration": 0.008264,
     "end_time": "2023-06-14T19:36:44.597299",
     "exception": false,
     "start_time": "2023-06-14T19:36:44.589035",
     "status": "completed"
    },
    "tags": []
   },
   "source": [
    "## helper"
   ]
  },
  {
   "cell_type": "code",
   "execution_count": 8,
   "id": "2bd030f9",
   "metadata": {
    "execution": {
     "iopub.execute_input": "2023-06-14T19:36:44.615913Z",
     "iopub.status.busy": "2023-06-14T19:36:44.615360Z",
     "iopub.status.idle": "2023-06-14T19:36:44.622414Z",
     "shell.execute_reply": "2023-06-14T19:36:44.621398Z"
    },
    "papermill": {
     "duration": 0.019304,
     "end_time": "2023-06-14T19:36:44.625010",
     "exception": false,
     "start_time": "2023-06-14T19:36:44.605706",
     "status": "completed"
    },
    "tags": []
   },
   "outputs": [],
   "source": [
    "# ref.: https://www.kaggle.com/stainsby/fast-tested-rle\n",
    "def rle(img):\n",
    "    '''\n",
    "    img: numpy array, 1 - mask, 0 - background\n",
    "    Returns run length as string formated\n",
    "    '''\n",
    "    pixels = img.flatten()\n",
    "    # pixels = (pixels >= thr).astype(int)\n",
    "    \n",
    "    pixels = np.concatenate([[0], pixels, [0]])\n",
    "    runs = np.where(pixels[1:] != pixels[:-1])[0] + 1\n",
    "    runs[1::2] -= runs[::2]\n",
    "    return ' '.join(str(x) for x in runs)"
   ]
  },
  {
   "cell_type": "markdown",
   "id": "62976df6",
   "metadata": {
    "papermill": {
     "duration": 0.008322,
     "end_time": "2023-06-14T19:36:44.642292",
     "exception": false,
     "start_time": "2023-06-14T19:36:44.633970",
     "status": "completed"
    },
    "tags": []
   },
   "source": [
    "## dataset"
   ]
  },
  {
   "cell_type": "code",
   "execution_count": 9,
   "id": "4699321e",
   "metadata": {
    "execution": {
     "iopub.execute_input": "2023-06-14T19:36:44.660235Z",
     "iopub.status.busy": "2023-06-14T19:36:44.659950Z",
     "iopub.status.idle": "2023-06-14T19:36:44.668303Z",
     "shell.execute_reply": "2023-06-14T19:36:44.667201Z"
    },
    "papermill": {
     "duration": 0.020095,
     "end_time": "2023-06-14T19:36:44.670706",
     "exception": false,
     "start_time": "2023-06-14T19:36:44.650611",
     "status": "completed"
    },
    "tags": []
   },
   "outputs": [],
   "source": [
    "def read_image(fragment_id):\n",
    "    images = []\n",
    "\n",
    "    # idxs = range(65)\n",
    "    mid = 65 // 2\n",
    "    start = 29\n",
    "    end = 32\n",
    "    idxs = range(start, end)\n",
    "\n",
    "    for i in tqdm(idxs):\n",
    "        \n",
    "        image = cv2.imread(CFG.comp_dataset_path + f\"{mode}/{fragment_id}/surface_volume/{i:02}.tif\", 0)\n",
    "\n",
    "        pad0 = (CFG.tile_size - image.shape[0] % CFG.tile_size)\n",
    "        pad1 = (CFG.tile_size - image.shape[1] % CFG.tile_size)\n",
    "\n",
    "        image = np.pad(image, [(0, pad0), (0, pad1)], constant_values=0)\n",
    "\n",
    "        images.append(image)\n",
    "    images = np.stack(images, axis=2)\n",
    "    \n",
    "    return images"
   ]
  },
  {
   "cell_type": "code",
   "execution_count": 10,
   "id": "c343b308",
   "metadata": {
    "execution": {
     "iopub.execute_input": "2023-06-14T19:36:44.689197Z",
     "iopub.status.busy": "2023-06-14T19:36:44.688898Z",
     "iopub.status.idle": "2023-06-14T19:36:44.698085Z",
     "shell.execute_reply": "2023-06-14T19:36:44.697057Z"
    },
    "papermill": {
     "duration": 0.021214,
     "end_time": "2023-06-14T19:36:44.700509",
     "exception": false,
     "start_time": "2023-06-14T19:36:44.679295",
     "status": "completed"
    },
    "tags": []
   },
   "outputs": [],
   "source": [
    "def get_transforms(data, cfg):\n",
    "    if data == 'train':\n",
    "        aug = A.Compose(cfg.train_aug_list)\n",
    "    elif data == 'valid':\n",
    "        aug = A.Compose(cfg.valid_aug_list)\n",
    "\n",
    "    # print(aug)\n",
    "    return aug\n",
    "\n",
    "class CustomDataset(Dataset):\n",
    "    def __init__(self, images, cfg, labels=None, transform=None):\n",
    "        self.images = images\n",
    "        self.cfg = cfg\n",
    "        self.labels = labels\n",
    "        self.transform = transform\n",
    "\n",
    "    def __len__(self):\n",
    "        # return len(self.xyxys)\n",
    "        return len(self.images)\n",
    "\n",
    "    def __getitem__(self, idx):\n",
    "        # x1, y1, x2, y2 = self.xyxys[idx]\n",
    "        image = self.images[idx]\n",
    "        data = self.transform(image=image)\n",
    "        image = data['image']\n",
    "        return image\n"
   ]
  },
  {
   "cell_type": "code",
   "execution_count": 11,
   "id": "1d91264a",
   "metadata": {
    "execution": {
     "iopub.execute_input": "2023-06-14T19:36:44.718996Z",
     "iopub.status.busy": "2023-06-14T19:36:44.718714Z",
     "iopub.status.idle": "2023-06-14T19:36:44.729525Z",
     "shell.execute_reply": "2023-06-14T19:36:44.728423Z"
    },
    "papermill": {
     "duration": 0.023206,
     "end_time": "2023-06-14T19:36:44.732143",
     "exception": false,
     "start_time": "2023-06-14T19:36:44.708937",
     "status": "completed"
    },
    "tags": []
   },
   "outputs": [],
   "source": [
    "def make_test_dataset(fragment_id):\n",
    "    test_images = read_image(fragment_id)\n",
    "    \n",
    "    x1_list = list(range(0, test_images.shape[1]-CFG.tile_size+1, CFG.stride))\n",
    "    y1_list = list(range(0, test_images.shape[0]-CFG.tile_size+1, CFG.stride))\n",
    "\n",
    "    \n",
    "    test_images_list = []\n",
    "    xyxys = []\n",
    "    for y1 in y1_list:\n",
    "        for x1 in x1_list:\n",
    "            y2 = y1 + CFG.tile_size\n",
    "            x2 = x1 + CFG.tile_size\n",
    "            \n",
    "            test_images_list.append(test_images[y1:y2, x1:x2])\n",
    "            xyxys.append((x1, y1, x2, y2))\n",
    "    xyxys = np.stack(xyxys)\n",
    "            \n",
    "    test_dataset = CustomDataset(test_images_list, CFG, transform=get_transforms(data='valid', cfg=CFG))\n",
    "    \n",
    "    test_loader = DataLoader(test_dataset,\n",
    "                          batch_size=CFG.batch_size,\n",
    "                          shuffle=False,\n",
    "                          num_workers=CFG.num_workers, pin_memory=True, drop_last=False)\n",
    "    \n",
    "    return test_loader, xyxys"
   ]
  },
  {
   "cell_type": "markdown",
   "id": "4673b8e5",
   "metadata": {
    "papermill": {
     "duration": 0.008197,
     "end_time": "2023-06-14T19:36:44.748780",
     "exception": false,
     "start_time": "2023-06-14T19:36:44.740583",
     "status": "completed"
    },
    "tags": []
   },
   "source": [
    "## model"
   ]
  },
  {
   "cell_type": "code",
   "execution_count": 12,
   "id": "6d418f0a",
   "metadata": {
    "execution": {
     "iopub.execute_input": "2023-06-14T19:36:44.770624Z",
     "iopub.status.busy": "2023-06-14T19:36:44.769131Z",
     "iopub.status.idle": "2023-06-14T19:36:44.777755Z",
     "shell.execute_reply": "2023-06-14T19:36:44.776766Z"
    },
    "papermill": {
     "duration": 0.020198,
     "end_time": "2023-06-14T19:36:44.779995",
     "exception": false,
     "start_time": "2023-06-14T19:36:44.759797",
     "status": "completed"
    },
    "tags": []
   },
   "outputs": [],
   "source": [
    "class CustomModel(nn.Module):\n",
    "    def __init__(self, cfg, weight=None):\n",
    "        super().__init__()\n",
    "        self.cfg = cfg\n",
    "\n",
    "        self.encoder = smp.Unet(\n",
    "            encoder_name=cfg.backbone, \n",
    "            encoder_weights=weight,\n",
    "            in_channels=cfg.in_chans,\n",
    "            classes=cfg.target_size,\n",
    "            activation=None,\n",
    "        )\n",
    "\n",
    "    def forward(self, image):\n",
    "        output = self.encoder(image)\n",
    "        output = output.squeeze(-1)\n",
    "        return output\n",
    "\n",
    "def build_model(cfg, weight=\"imagenet\"):\n",
    "    print('model_name', cfg.model_name)\n",
    "    print('backbone', cfg.backbone)\n",
    "\n",
    "    model = CustomModel(cfg, weight)\n",
    "    return model\n"
   ]
  },
  {
   "cell_type": "code",
   "execution_count": 13,
   "id": "28ffeb3e",
   "metadata": {
    "execution": {
     "iopub.execute_input": "2023-06-14T19:36:44.799300Z",
     "iopub.status.busy": "2023-06-14T19:36:44.799017Z",
     "iopub.status.idle": "2023-06-14T19:36:44.812848Z",
     "shell.execute_reply": "2023-06-14T19:36:44.811886Z"
    },
    "papermill": {
     "duration": 0.026476,
     "end_time": "2023-06-14T19:36:44.815326",
     "exception": false,
     "start_time": "2023-06-14T19:36:44.788850",
     "status": "completed"
    },
    "tags": []
   },
   "outputs": [],
   "source": [
    "class EnsembleModel(nn.Module):\n",
    "    def __init__(self):\n",
    "        super().__init__()\n",
    "        self.model = nn.ModuleList()\n",
    "        model_b2_list = [\n",
    "                     '/kaggle/input/00-unet/Unet_fold1_mitb2/Unet_fold1_mitb2.pth',\n",
    "                     '/kaggle/input/00-unet/Unet_fold2_mitb2/Unet_fold2_mitb2.pth',\n",
    "                     '/kaggle/input/00-unet/Unet_fold3_mitb2/Unet_fold3_mitb2.pth',                   \n",
    "                     ]\n",
    "        model_b3_list = [\n",
    "            '/kaggle/input/00-unet/00Unet_fold1_mitb3_4_best/00Unet_fold1_mitb3_4_best.pth',\n",
    "            '/kaggle/input/00unet-fold2-mitb3-4-bes/00Unet_fold2_mitb3_4_best.pth',\n",
    "            '/kaggle/input/00-unet/00Unet_fold3_mitb3_6_best/00Unet_fold3_mitb3_6_best.pth' \n",
    "                ]\n",
    "        model_tu_regnety_list = [\n",
    "            '/kaggle/input/00-unet/Unet_fold1_regnety/Unet_fold1_regnety.pth',\n",
    "            '/kaggle/input/00-unet/Unet_fold3_regnety/Unet_fold3_regnety.pth'  \n",
    "        ]\n",
    "        for mod in model_b2_list:\n",
    "            _model = build_model(CFG, weight=None)\n",
    "            _model.to(device)\n",
    "\n",
    "            model_path = mod\n",
    "            state = torch.load(model_path)['model']\n",
    "            _model.load_state_dict(state)\n",
    "            _model.eval()\n",
    "\n",
    "            self.model.append(_model)\n",
    "        for mod in model_tu_regnety_list:\n",
    "            CFG.backbone = 'tu-regnety_064'\n",
    "            _model = build_model(CFG, weight=None)\n",
    "            _model.to(device)\n",
    "\n",
    "            model_path = mod\n",
    "            state = torch.load(model_path)['model']\n",
    "            _model.load_state_dict(state)\n",
    "            _model.eval()\n",
    "\n",
    "            self.model.append(_model)\n",
    "        for mod in model_b3_list:\n",
    "            CFG.backbone = 'mit_b3'\n",
    "            _model = build_model(CFG, weight=None)\n",
    "            _model.to(device)\n",
    "\n",
    "            model_path = mod\n",
    "            state = torch.load(model_path)['model']\n",
    "            _model.load_state_dict(state)\n",
    "            _model.eval()\n",
    "\n",
    "            self.model.append(_model)\n",
    "            \n",
    "    \n",
    "    def forward(self,x):\n",
    "        output=[]\n",
    "        for m in self.model:\n",
    "            output.append(m(x))\n",
    "        output=torch.stack(output,dim=0).mean(0)\n",
    "        return output\n",
    "        \n",
    "    "
   ]
  },
  {
   "cell_type": "code",
   "execution_count": 14,
   "id": "a5a49640",
   "metadata": {
    "execution": {
     "iopub.execute_input": "2023-06-14T19:36:44.833760Z",
     "iopub.status.busy": "2023-06-14T19:36:44.832771Z",
     "iopub.status.idle": "2023-06-14T19:36:44.841941Z",
     "shell.execute_reply": "2023-06-14T19:36:44.841016Z"
    },
    "papermill": {
     "duration": 0.020727,
     "end_time": "2023-06-14T19:36:44.844304",
     "exception": false,
     "start_time": "2023-06-14T19:36:44.823577",
     "status": "completed"
    },
    "tags": []
   },
   "outputs": [],
   "source": [
    "def TTA(x:torch.Tensor,model:nn.Module):\n",
    "    #x.shape=(batch,c,h,w)\n",
    "    if CFG.TTA:\n",
    "        shape=x.shape\n",
    "        x=[x,*[torch.rot90(x,k=i,dims=(-2,-1)) for i in range(1,4)]]\n",
    "        x=torch.cat(x,dim=0)\n",
    "        x=model(x)\n",
    "        x=torch.sigmoid(x)\n",
    "        x=x.reshape(4,shape[0],*shape[2:])\n",
    "        x=[torch.rot90(x[i],k=-i,dims=(-2,-1)) for i in range(4)]\n",
    "        x=torch.stack(x,dim=0)\n",
    "        return x.mean(0)\n",
    "    else :\n",
    "        x=model(x)\n",
    "        x=torch.sigmoid(x)\n",
    "        return x"
   ]
  },
  {
   "cell_type": "code",
   "execution_count": 15,
   "id": "00cfb85e",
   "metadata": {
    "execution": {
     "iopub.execute_input": "2023-06-14T19:36:44.863497Z",
     "iopub.status.busy": "2023-06-14T19:36:44.861891Z",
     "iopub.status.idle": "2023-06-14T19:37:08.882363Z",
     "shell.execute_reply": "2023-06-14T19:37:08.880005Z"
    },
    "papermill": {
     "duration": 24.032667,
     "end_time": "2023-06-14T19:37:08.885332",
     "exception": false,
     "start_time": "2023-06-14T19:36:44.852665",
     "status": "completed"
    },
    "tags": []
   },
   "outputs": [
    {
     "name": "stdout",
     "output_type": "stream",
     "text": [
      "model_name Unet\n",
      "backbone mit_b2\n",
      "model_name Unet\n",
      "backbone mit_b2\n",
      "model_name Unet\n",
      "backbone mit_b2\n",
      "model_name Unet\n",
      "backbone tu-regnety_064\n",
      "model_name Unet\n",
      "backbone tu-regnety_064\n",
      "model_name Unet\n",
      "backbone mit_b3\n",
      "model_name Unet\n",
      "backbone mit_b3\n",
      "model_name Unet\n",
      "backbone mit_b3\n"
     ]
    }
   ],
   "source": [
    "if mode == 'test':\n",
    "    fragment_ids = sorted(os.listdir(CFG.comp_dataset_path + mode))\n",
    "else:\n",
    "    fragment_ids = [3]\n",
    "model = EnsembleModel()\n",
    "# model = nn.DataParallel(model, device_ids=[0, 1])\n",
    "model = model.cuda()"
   ]
  },
  {
   "cell_type": "markdown",
   "id": "737fde1b",
   "metadata": {
    "papermill": {
     "duration": 0.008781,
     "end_time": "2023-06-14T19:37:08.903907",
     "exception": false,
     "start_time": "2023-06-14T19:37:08.895126",
     "status": "completed"
    },
    "tags": []
   },
   "source": [
    "## main"
   ]
  },
  {
   "cell_type": "code",
   "execution_count": 16,
   "id": "f99235ba",
   "metadata": {
    "execution": {
     "iopub.execute_input": "2023-06-14T19:37:08.923760Z",
     "iopub.status.busy": "2023-06-14T19:37:08.923245Z",
     "iopub.status.idle": "2023-06-14T20:16:32.817767Z",
     "shell.execute_reply": "2023-06-14T20:16:32.816423Z"
    },
    "papermill": {
     "duration": 2363.907732,
     "end_time": "2023-06-14T20:16:32.820775",
     "exception": false,
     "start_time": "2023-06-14T19:37:08.913043",
     "status": "completed"
    },
    "tags": []
   },
   "outputs": [
    {
     "data": {
      "application/vnd.jupyter.widget-view+json": {
       "model_id": "ce4b98eedb9944049098be065087c65a",
       "version_major": 2,
       "version_minor": 0
      },
      "text/plain": [
       "  0%|          | 0/3 [00:00<?, ?it/s]"
      ]
     },
     "metadata": {},
     "output_type": "display_data"
    },
    {
     "data": {
      "application/vnd.jupyter.widget-view+json": {
       "model_id": "3e66ef04d9d9409caf96633d8252cf9f",
       "version_major": 2,
       "version_minor": 0
      },
      "text/plain": [
       "  0%|          | 0/87 [00:00<?, ?it/s]"
      ]
     },
     "metadata": {},
     "output_type": "display_data"
    },
    {
     "name": "stdout",
     "output_type": "stream",
     "text": [
      "mask_count_min: 1.0\n"
     ]
    },
    {
     "data": {
      "image/png": "[encoded data removed]",
      "text/plain": [
       "<Figure size 1500x800 with 3 Axes>"
      ]
     },
     "metadata": {},
     "output_type": "display_data"
    },
    {
     "data": {
      "application/vnd.jupyter.widget-view+json": {
       "model_id": "bda41f2f7fbf4db095595dfe32665eba",
       "version_major": 2,
       "version_minor": 0
      },
      "text/plain": [
       "  0%|          | 0/3 [00:00<?, ?it/s]"
      ]
     },
     "metadata": {},
     "output_type": "display_data"
    },
    {
     "data": {
      "application/vnd.jupyter.widget-view+json": {
       "model_id": "668908c19c534b93bc14776a73303bb5",
       "version_major": 2,
       "version_minor": 0
      },
      "text/plain": [
       "  0%|          | 0/172 [00:00<?, ?it/s]"
      ]
     },
     "metadata": {},
     "output_type": "display_data"
    },
    {
     "name": "stdout",
     "output_type": "stream",
     "text": [
      "mask_count_min: 1.0\n"
     ]
    },
    {
     "data": {
      "image/png": "[encoded data removed]",
      "text/plain": [
       "<Figure size 1500x800 with 3 Axes>"
      ]
     },
     "metadata": {},
     "output_type": "display_data"
    }
   ],
   "source": [
    "results = []\n",
    "for fragment_id in fragment_ids:\n",
    "    \n",
    "    test_loader, xyxys = make_test_dataset(fragment_id)\n",
    "    \n",
    "    binary_mask = cv2.imread(CFG.comp_dataset_path + f\"{mode}/{fragment_id}/mask.png\", 0)\n",
    "    binary_mask = (binary_mask / 255).astype(int)\n",
    "    \n",
    "    ori_h = binary_mask.shape[0]\n",
    "    ori_w = binary_mask.shape[1]\n",
    "    # mask = mask / 255\n",
    "\n",
    "    pad0 = (CFG.tile_size - binary_mask.shape[0] % CFG.tile_size)\n",
    "    pad1 = (CFG.tile_size - binary_mask.shape[1] % CFG.tile_size)\n",
    "\n",
    "    binary_mask = np.pad(binary_mask, [(0, pad0), (0, pad1)], constant_values=0)\n",
    "    \n",
    "    mask_pred = np.zeros(binary_mask.shape)\n",
    "    mask_count = np.zeros(binary_mask.shape)\n",
    "\n",
    "    for step, (images) in tqdm(enumerate(test_loader), total=len(test_loader)):\n",
    "        images = images.cuda()\n",
    "        batch_size = images.size(0)\n",
    "\n",
    "        with torch.no_grad():\n",
    "            y_preds = TTA(images,model).cpu().numpy()\n",
    "\n",
    "        start_idx = step*CFG.batch_size\n",
    "        end_idx = start_idx + batch_size\n",
    "        for i, (x1, y1, x2, y2) in enumerate(xyxys[start_idx:end_idx]):\n",
    "            mask_pred[y1:y2, x1:x2] += y_preds[i].reshape(mask_pred[y1:y2, x1:x2].shape)\n",
    "            mask_count[y1:y2, x1:x2] += np.ones((CFG.tile_size, CFG.tile_size))\n",
    "    \n",
    "    \n",
    "    print(f'mask_count_min: {mask_count.min()}')\n",
    "    mask_pred /= mask_count\n",
    "    \n",
    "    fig, axes = plt.subplots(1, 3, figsize=(15, 8))\n",
    "    axes[0].imshow(mask_count)\n",
    "    axes[1].imshow(mask_pred.copy())\n",
    "    \n",
    "    \n",
    "    \n",
    "    mask_pred = mask_pred[:ori_h, :ori_w]\n",
    "    binary_mask = binary_mask[:ori_h, :ori_w]\n",
    "    \n",
    "    mask_pred = (mask_pred >= TH).astype(int)\n",
    "    mask_pred *= binary_mask\n",
    "    axes[2].imshow(mask_pred)\n",
    "    plt.show()\n",
    "    \n",
    "    inklabels_rle = rle(mask_pred)\n",
    "    \n",
    "    results.append((fragment_id, inklabels_rle))\n",
    "    \n",
    "\n",
    "    del mask_pred, mask_count\n",
    "    del test_loader\n",
    "    \n",
    "#     gc.collect()\n",
    "#     torch.cuda.empty_cache()"
   ]
  },
  {
   "cell_type": "markdown",
   "id": "1248b2a0",
   "metadata": {
    "papermill": {
     "duration": 0.01215,
     "end_time": "2023-06-14T20:16:32.845644",
     "exception": false,
     "start_time": "2023-06-14T20:16:32.833494",
     "status": "completed"
    },
    "tags": []
   },
   "source": [
    "## submission"
   ]
  },
  {
   "cell_type": "code",
   "execution_count": 17,
   "id": "c80d942f",
   "metadata": {
    "execution": {
     "iopub.execute_input": "2023-06-14T20:16:32.872656Z",
     "iopub.status.busy": "2023-06-14T20:16:32.872174Z",
     "iopub.status.idle": "2023-06-14T20:16:32.882053Z",
     "shell.execute_reply": "2023-06-14T20:16:32.881058Z"
    },
    "papermill": {
     "duration": 0.026403,
     "end_time": "2023-06-14T20:16:32.884682",
     "exception": false,
     "start_time": "2023-06-14T20:16:32.858279",
     "status": "completed"
    },
    "tags": []
   },
   "outputs": [],
   "source": [
    "sub = pd.DataFrame(results, columns=['Id', 'Predicted'])"
   ]
  },
  {
   "cell_type": "code",
   "execution_count": 18,
   "id": "6bce74ee",
   "metadata": {
    "execution": {
     "iopub.execute_input": "2023-06-14T20:16:32.910817Z",
     "iopub.status.busy": "2023-06-14T20:16:32.910515Z",
     "iopub.status.idle": "2023-06-14T20:16:32.928071Z",
     "shell.execute_reply": "2023-06-14T20:16:32.927053Z"
    },
    "papermill": {
     "duration": 0.033697,
     "end_time": "2023-06-14T20:16:32.930514",
     "exception": false,
     "start_time": "2023-06-14T20:16:32.896817",
     "status": "completed"
    },
    "tags": []
   },
   "outputs": [
    {
     "data": {
      "text/html": [
       "<div>\n",
       "<style scoped>\n",
       "    .dataframe tbody tr th:only-of-type {\n",
       "        vertical-align: middle;\n",
       "    }\n",
       "\n",
       "    .dataframe tbody tr th {\n",
       "        vertical-align: top;\n",
       "    }\n",
       "\n",
       "    .dataframe thead th {\n",
       "        text-align: right;\n",
       "    }\n",
       "</style>\n",
       "<table border=\"1\" class=\"dataframe\">\n",
       "  <thead>\n",
       "    <tr style=\"text-align: right;\">\n",
       "      <th></th>\n",
       "      <th>Id</th>\n",
       "      <th>Predicted</th>\n",
       "    </tr>\n",
       "  </thead>\n",
       "  <tbody>\n",
       "    <tr>\n",
       "      <th>0</th>\n",
       "      <td>a</td>\n",
       "      <td>593588 12 599909 24 606223 44 612553 54 618883...</td>\n",
       "    </tr>\n",
       "    <tr>\n",
       "      <th>1</th>\n",
       "      <td>b</td>\n",
       "      <td>1287 176 2198 53 2804 107 7616 178 8527 60 913...</td>\n",
       "    </tr>\n",
       "  </tbody>\n",
       "</table>\n",
       "</div>"
      ],
      "text/plain": [
       "  Id                                          Predicted\n",
       "0  a  593588 12 599909 24 606223 44 612553 54 618883...\n",
       "1  b  1287 176 2198 53 2804 107 7616 178 8527 60 913..."
      ]
     },
     "execution_count": 18,
     "metadata": {},
     "output_type": "execute_result"
    }
   ],
   "source": [
    "sub"
   ]
  },
  {
   "cell_type": "code",
   "execution_count": 19,
   "id": "32ce1ada",
   "metadata": {
    "execution": {
     "iopub.execute_input": "2023-06-14T20:16:32.959335Z",
     "iopub.status.busy": "2023-06-14T20:16:32.959045Z",
     "iopub.status.idle": "2023-06-14T20:16:33.003892Z",
     "shell.execute_reply": "2023-06-14T20:16:33.002860Z"
    },
    "papermill": {
     "duration": 0.060921,
     "end_time": "2023-06-14T20:16:33.006090",
     "exception": false,
     "start_time": "2023-06-14T20:16:32.945169",
     "status": "completed"
    },
    "tags": []
   },
   "outputs": [],
   "source": [
    "sample_sub = pd.read_csv(CFG.comp_dataset_path + 'sample_submission.csv')\n",
    "sample_sub = pd.merge(sample_sub[['Id']], sub, on='Id', how='left')"
   ]
  },
  {
   "cell_type": "code",
   "execution_count": 20,
   "id": "8fc90644",
   "metadata": {
    "execution": {
     "iopub.execute_input": "2023-06-14T20:16:33.033151Z",
     "iopub.status.busy": "2023-06-14T20:16:33.032496Z",
     "iopub.status.idle": "2023-06-14T20:16:33.044082Z",
     "shell.execute_reply": "2023-06-14T20:16:33.042827Z"
    },
    "papermill": {
     "duration": 0.028973,
     "end_time": "2023-06-14T20:16:33.047898",
     "exception": false,
     "start_time": "2023-06-14T20:16:33.018925",
     "status": "completed"
    },
    "tags": []
   },
   "outputs": [
    {
     "data": {
      "text/html": [
       "<div>\n",
       "<style scoped>\n",
       "    .dataframe tbody tr th:only-of-type {\n",
       "        vertical-align: middle;\n",
       "    }\n",
       "\n",
       "    .dataframe tbody tr th {\n",
       "        vertical-align: top;\n",
       "    }\n",
       "\n",
       "    .dataframe thead th {\n",
       "        text-align: right;\n",
       "    }\n",
       "</style>\n",
       "<table border=\"1\" class=\"dataframe\">\n",
       "  <thead>\n",
       "    <tr style=\"text-align: right;\">\n",
       "      <th></th>\n",
       "      <th>Id</th>\n",
       "      <th>Predicted</th>\n",
       "    </tr>\n",
       "  </thead>\n",
       "  <tbody>\n",
       "    <tr>\n",
       "      <th>0</th>\n",
       "      <td>a</td>\n",
       "      <td>593588 12 599909 24 606223 44 612553 54 618883...</td>\n",
       "    </tr>\n",
       "    <tr>\n",
       "      <th>1</th>\n",
       "      <td>b</td>\n",
       "      <td>1287 176 2198 53 2804 107 7616 178 8527 60 913...</td>\n",
       "    </tr>\n",
       "  </tbody>\n",
       "</table>\n",
       "</div>"
      ],
      "text/plain": [
       "  Id                                          Predicted\n",
       "0  a  593588 12 599909 24 606223 44 612553 54 618883...\n",
       "1  b  1287 176 2198 53 2804 107 7616 178 8527 60 913..."
      ]
     },
     "execution_count": 20,
     "metadata": {},
     "output_type": "execute_result"
    }
   ],
   "source": [
    "sample_sub"
   ]
  },
  {
   "cell_type": "code",
   "execution_count": 21,
   "id": "843c0a3f",
   "metadata": {
    "execution": {
     "iopub.execute_input": "2023-06-14T20:16:33.076055Z",
     "iopub.status.busy": "2023-06-14T20:16:33.075748Z",
     "iopub.status.idle": "2023-06-14T20:16:33.093183Z",
     "shell.execute_reply": "2023-06-14T20:16:33.092189Z"
    },
    "papermill": {
     "duration": 0.033413,
     "end_time": "2023-06-14T20:16:33.095725",
     "exception": false,
     "start_time": "2023-06-14T20:16:33.062312",
     "status": "completed"
    },
    "tags": []
   },
   "outputs": [],
   "source": [
    "sample_sub.to_csv(\"submission.csv\", index=False)"
   ]
  }
 ],
 "metadata": {
  "kernelspec": {
   "display_name": "Python 3",
   "language": "python",
   "name": "python3"
  },
  "language_info": {
   "codemirror_mode": {
    "name": "ipython",
    "version": 3
   },
   "file_extension": ".py",
   "mimetype": "text/x-python",
   "name": "python",
   "nbconvert_exporter": "python",
   "pygments_lexer": "ipython3",
   "version": "3.7.12"
  },
  "papermill": {
   "default_parameters": {},
   "duration": 2410.479536,
   "end_time": "2023-06-14T20:16:35.924944",
   "environment_variables": {},
   "exception": null,
   "input_path": "__notebook__.ipynb",
   "output_path": "__notebook__.ipynb",
   "parameters": {},
   "start_time": "2023-06-14T19:36:25.445408",
   "version": "2.4.0"
  },
  "widgets": {
   "application/vnd.jupyter.widget-state+json": {
    "state": {
     "03435824cbec4073875d7fd4fa76f250": {
      "model_module": "@jupyter-widgets/controls",
      "model_module_version": "1.5.0",
      "model_name": "HTMLModel",
      "state": {
       "_dom_classes": [],
       "_model_module": "@jupyter-widgets/controls",
       "_model_module_version": "1.5.0",
       "_model_name": "HTMLModel",
       "_view_count": null,
       "_view_module": "@jupyter-widgets/controls",
       "_view_module_version": "1.5.0",
       "_view_name": "HTMLView",
       "description": "",
       "description_tooltip": null,
       "layout": "IPY_MODEL_69f9ddbe58044ed6bc08691fef9cfe6a",
       "placeholder": "​",
       "style": "IPY_MODEL_db49b7df655d48d1835108f9d72afd94",
       "value": "100%"
      }
     },
     "096f0632b9e74019ba042455bc6ed66c": {
      "model_module": "@jupyter-widgets/controls",
      "model_module_version": "1.5.0",
      "model_name": "HTMLModel",
      "state": {
       "_dom_classes": [],
       "_model_module": "@jupyter-widgets/controls",
       "_model_module_version": "1.5.0",
       "_model_name": "HTMLModel",
       "_view_count": null,
       "_view_module": "@jupyter-widgets/controls",
       "_view_module_version": "1.5.0",
       "_view_name": "HTMLView",
       "description": "",
       "description_tooltip": null,
       "layout": "IPY_MODEL_5142ac3fdd9241cfb62e1890c094a748",
       "placeholder": "​",
       "style": "IPY_MODEL_ff9d162fbeee45a583421104b97bd08d",
       "value": " 3/3 [00:01&lt;00:00,  1.99it/s]"
      }
     },
     "0d31f2e392264d2eb3fa3f47d5cf4587": {
      "model_module": "@jupyter-widgets/base",
      "model_module_version": "1.2.0",
      "model_name": "LayoutModel",
      "state": {
       "_model_module": "@jupyter-widgets/base",
       "_model_module_version": "1.2.0",
       "_model_name": "LayoutModel",
       "_view_count": null,
       "_view_module": "@jupyter-widgets/base",
       "_view_module_version": "1.2.0",
       "_view_name": "LayoutView",
       "align_content": null,
       "align_items": null,
       "align_self": null,
       "border": null,
       "bottom": null,
       "display": null,
       "flex": null,
       "flex_flow": null,
       "grid_area": null,
       "grid_auto_columns": null,
       "grid_auto_flow": null,
       "grid_auto_rows": null,
       "grid_column": null,
       "grid_gap": null,
       "grid_row": null,
       "grid_template_areas": null,
       "grid_template_columns": null,
       "grid_template_rows": null,
       "height": null,
       "justify_content": null,
       "justify_items": null,
       "left": null,
       "margin": null,
       "max_height": null,
       "max_width": null,
       "min_height": null,
       "min_width": null,
       "object_fit": null,
       "object_position": null,
       "order": null,
       "overflow": null,
       "overflow_x": null,
       "overflow_y": null,
       "padding": null,
       "right": null,
       "top": null,
       "visibility": null,
       "width": null
      }
     },
     "255157df522742b4b58038a4c837a2ae": {
      "model_module": "@jupyter-widgets/controls",
      "model_module_version": "1.5.0",
      "model_name": "ProgressStyleModel",
      "state": {
       "_model_module": "@jupyter-widgets/controls",
       "_model_module_version": "1.5.0",
       "_model_name": "ProgressStyleModel",
       "_view_count": null,
       "_view_module": "@jupyter-widgets/base",
       "_view_module_version": "1.2.0",
       "_view_name": "StyleView",
       "bar_color": null,
       "description_width": ""
      }
     },
     "25e6ab255c4f41f9889b1bdf532e43b0": {
      "model_module": "@jupyter-widgets/controls",
      "model_module_version": "1.5.0",
      "model_name": "DescriptionStyleModel",
      "state": {
       "_model_module": "@jupyter-widgets/controls",
       "_model_module_version": "1.5.0",
       "_model_name": "DescriptionStyleModel",
       "_view_count": null,
       "_view_module": "@jupyter-widgets/base",
       "_view_module_version": "1.2.0",
       "_view_name": "StyleView",
       "description_width": ""
      }
     },
     "2a3130c1efff4442b410989e7b0476c6": {
      "model_module": "@jupyter-widgets/base",
      "model_module_version": "1.2.0",
      "model_name": "LayoutModel",
      "state": {
       "_model_module": "@jupyter-widgets/base",
       "_model_module_version": "1.2.0",
       "_model_name": "LayoutModel",
       "_view_count": null,
       "_view_module": "@jupyter-widgets/base",
       "_view_module_version": "1.2.0",
       "_view_name": "LayoutView",
       "align_content": null,
       "align_items": null,
       "align_self": null,
       "border": null,
       "bottom": null,
       "display": null,
       "flex": null,
       "flex_flow": null,
       "grid_area": null,
       "grid_auto_columns": null,
       "grid_auto_flow": null,
       "grid_auto_rows": null,
       "grid_column": null,
       "grid_gap": null,
       "grid_row": null,
       "grid_template_areas": null,
       "grid_template_columns": null,
       "grid_template_rows": null,
       "height": null,
       "justify_content": null,
       "justify_items": null,
       "left": null,
       "margin": null,
       "max_height": null,
       "max_width": null,
       "min_height": null,
       "min_width": null,
       "object_fit": null,
       "object_position": null,
       "order": null,
       "overflow": null,
       "overflow_x": null,
       "overflow_y": null,
       "padding": null,
       "right": null,
       "top": null,
       "visibility": null,
       "width": null
      }
     },
     "30dba422a95d4b15be942a17d8cfda39": {
      "model_module": "@jupyter-widgets/base",
      "model_module_version": "1.2.0",
      "model_name": "LayoutModel",
      "state": {
       "_model_module": "@jupyter-widgets/base",
       "_model_module_version": "1.2.0",
       "_model_name": "LayoutModel",
       "_view_count": null,
       "_view_module": "@jupyter-widgets/base",
       "_view_module_version": "1.2.0",
       "_view_name": "LayoutView",
       "align_content": null,
       "align_items": null,
       "align_self": null,
       "border": null,
       "bottom": null,
       "display": null,
       "flex": null,
       "flex_flow": null,
       "grid_area": null,
       "grid_auto_columns": null,
       "grid_auto_flow": null,
       "grid_auto_rows": null,
       "grid_column": null,
       "grid_gap": null,
       "grid_row": null,
       "grid_template_areas": null,
       "grid_template_columns": null,
       "grid_template_rows": null,
       "height": null,
       "justify_content": null,
       "justify_items": null,
       "left": null,
       "margin": null,
       "max_height": null,
       "max_width": null,
       "min_height": null,
       "min_width": null,
       "object_fit": null,
       "object_position": null,
       "order": null,
       "overflow": null,
       "overflow_x": null,
       "overflow_y": null,
       "padding": null,
       "right": null,
       "top": null,
       "visibility": null,
       "width": null
      }
     },
     "3e66ef04d9d9409caf96633d8252cf9f": {
      "model_module": "@jupyter-widgets/controls",
      "model_module_version": "1.5.0",
      "model_name": "HBoxModel",
      "state": {
       "_dom_classes": [],
       "_model_module": "@jupyter-widgets/controls",
       "_model_module_version": "1.5.0",
       "_model_name": "HBoxModel",
       "_view_count": null,
       "_view_module": "@jupyter-widgets/controls",
       "_view_module_version": "1.5.0",
       "_view_name": "HBoxView",
       "box_style": "",
       "children": [
        "IPY_MODEL_f6d20f7e09114ef680ec1e680dd6b6e9",
        "IPY_MODEL_9f2d402fa9734f52baa9588ab06b1e1d",
        "IPY_MODEL_4bd69007bd6d4ea2ad25557e0b5d32c3"
       ],
       "layout": "IPY_MODEL_9d7d4e38c935431d9b0f8661a2234b92"
      }
     },
     "44d312c8c4c84f08bdd612f6c1de9dba": {
      "model_module": "@jupyter-widgets/base",
      "model_module_version": "1.2.0",
      "model_name": "LayoutModel",
      "state": {
       "_model_module": "@jupyter-widgets/base",
       "_model_module_version": "1.2.0",
       "_model_name": "LayoutModel",
       "_view_count": null,
       "_view_module": "@jupyter-widgets/base",
       "_view_module_version": "1.2.0",
       "_view_name": "LayoutView",
       "align_content": null,
       "align_items": null,
       "align_self": null,
       "border": null,
       "bottom": null,
       "display": null,
       "flex": null,
       "flex_flow": null,
       "grid_area": null,
       "grid_auto_columns": null,
       "grid_auto_flow": null,
       "grid_auto_rows": null,
       "grid_column": null,
       "grid_gap": null,
       "grid_row": null,
       "grid_template_areas": null,
       "grid_template_columns": null,
       "grid_template_rows": null,
       "height": null,
       "justify_content": null,
       "justify_items": null,
       "left": null,
       "margin": null,
       "max_height": null,
       "max_width": null,
       "min_height": null,
       "min_width": null,
       "object_fit": null,
       "object_position": null,
       "order": null,
       "overflow": null,
       "overflow_x": null,
       "overflow_y": null,
       "padding": null,
       "right": null,
       "top": null,
       "visibility": null,
       "width": null
      }
     },
     "47ebd994a59c41ddb42dbe5a9a732813": {
      "model_module": "@jupyter-widgets/controls",
      "model_module_version": "1.5.0",
      "model_name": "ProgressStyleModel",
      "state": {
       "_model_module": "@jupyter-widgets/controls",
       "_model_module_version": "1.5.0",
       "_model_name": "ProgressStyleModel",
       "_view_count": null,
       "_view_module": "@jupyter-widgets/base",
       "_view_module_version": "1.2.0",
       "_view_name": "StyleView",
       "bar_color": null,
       "description_width": ""
      }
     },
     "4bd69007bd6d4ea2ad25557e0b5d32c3": {
      "model_module": "@jupyter-widgets/controls",
      "model_module_version": "1.5.0",
      "model_name": "HTMLModel",
      "state": {
       "_dom_classes": [],
       "_model_module": "@jupyter-widgets/controls",
       "_model_module_version": "1.5.0",
       "_model_name": "HTMLModel",
       "_view_count": null,
       "_view_module": "@jupyter-widgets/controls",
       "_view_module_version": "1.5.0",
       "_view_name": "HTMLView",
       "description": "",
       "description_tooltip": null,
       "layout": "IPY_MODEL_ecd66be06a524c5abfe8a2c4bac89faa",
       "placeholder": "​",
       "style": "IPY_MODEL_640d5e835ed8413098778a15c51e5eba",
       "value": " 87/87 [13:11&lt;00:00,  7.66s/it]"
      }
     },
     "5142ac3fdd9241cfb62e1890c094a748": {
      "model_module": "@jupyter-widgets/base",
      "model_module_version": "1.2.0",
      "model_name": "LayoutModel",
      "state": {
       "_model_module": "@jupyter-widgets/base",
       "_model_module_version": "1.2.0",
       "_model_name": "LayoutModel",
       "_view_count": null,
       "_view_module": "@jupyter-widgets/base",
       "_view_module_version": "1.2.0",
       "_view_name": "LayoutView",
       "align_content": null,
       "align_items": null,
       "align_self": null,
       "border": null,
       "bottom": null,
       "display": null,
       "flex": null,
       "flex_flow": null,
       "grid_area": null,
       "grid_auto_columns": null,
       "grid_auto_flow": null,
       "grid_auto_rows": null,
       "grid_column": null,
       "grid_gap": null,
       "grid_row": null,
       "grid_template_areas": null,
       "grid_template_columns": null,
       "grid_template_rows": null,
       "height": null,
       "justify_content": null,
       "justify_items": null,
       "left": null,
       "margin": null,
       "max_height": null,
       "max_width": null,
       "min_height": null,
       "min_width": null,
       "object_fit": null,
       "object_position": null,
       "order": null,
       "overflow": null,
       "overflow_x": null,
       "overflow_y": null,
       "padding": null,
       "right": null,
       "top": null,
       "visibility": null,
       "width": null
      }
     },
     "521d4ee2abe74a48b1b74fadcf4afd54": {
      "model_module": "@jupyter-widgets/controls",
      "model_module_version": "1.5.0",
      "model_name": "FloatProgressModel",
      "state": {
       "_dom_classes": [],
       "_model_module": "@jupyter-widgets/controls",
       "_model_module_version": "1.5.0",
       "_model_name": "FloatProgressModel",
       "_view_count": null,
       "_view_module": "@jupyter-widgets/controls",
       "_view_module_version": "1.5.0",
       "_view_name": "ProgressView",
       "bar_style": "success",
       "description": "",
       "description_tooltip": null,
       "layout": "IPY_MODEL_44d312c8c4c84f08bdd612f6c1de9dba",
       "max": 3,
       "min": 0,
       "orientation": "horizontal",
       "style": "IPY_MODEL_47ebd994a59c41ddb42dbe5a9a732813",
       "value": 3
      }
     },
     "52fad30dc42d4009af1b23b6f392629b": {
      "model_module": "@jupyter-widgets/controls",
      "model_module_version": "1.5.0",
      "model_name": "ProgressStyleModel",
      "state": {
       "_model_module": "@jupyter-widgets/controls",
       "_model_module_version": "1.5.0",
       "_model_name": "ProgressStyleModel",
       "_view_count": null,
       "_view_module": "@jupyter-widgets/base",
       "_view_module_version": "1.2.0",
       "_view_name": "StyleView",
       "bar_color": null,
       "description_width": ""
      }
     },
     "60a402a24361422c9a847a595655b077": {
      "model_module": "@jupyter-widgets/controls",
      "model_module_version": "1.5.0",
      "model_name": "HTMLModel",
      "state": {
       "_dom_classes": [],
       "_model_module": "@jupyter-widgets/controls",
       "_model_module_version": "1.5.0",
       "_model_name": "HTMLModel",
       "_view_count": null,
       "_view_module": "@jupyter-widgets/controls",
       "_view_module_version": "1.5.0",
       "_view_name": "HTMLView",
       "description": "",
       "description_tooltip": null,
       "layout": "IPY_MODEL_a713ca2be7224c4fbda7da14d91b957c",
       "placeholder": "​",
       "style": "IPY_MODEL_6b6eb23646af4040b960c50e5865f433",
       "value": "100%"
      }
     },
     "640d5e835ed8413098778a15c51e5eba": {
      "model_module": "@jupyter-widgets/controls",
      "model_module_version": "1.5.0",
      "model_name": "DescriptionStyleModel",
      "state": {
       "_model_module": "@jupyter-widgets/controls",
       "_model_module_version": "1.5.0",
       "_model_name": "DescriptionStyleModel",
       "_view_count": null,
       "_view_module": "@jupyter-widgets/base",
       "_view_module_version": "1.2.0",
       "_view_name": "StyleView",
       "description_width": ""
      }
     },
     "6605291b43bc4a42a49e7abb86784a33": {
      "model_module": "@jupyter-widgets/controls",
      "model_module_version": "1.5.0",
      "model_name": "HTMLModel",
      "state": {
       "_dom_classes": [],
       "_model_module": "@jupyter-widgets/controls",
       "_model_module_version": "1.5.0",
       "_model_name": "HTMLModel",
       "_view_count": null,
       "_view_module": "@jupyter-widgets/controls",
       "_view_module_version": "1.5.0",
       "_view_name": "HTMLView",
       "description": "",
       "description_tooltip": null,
       "layout": "IPY_MODEL_72e7c1ef06614469bf0dcfa0d05ca619",
       "placeholder": "​",
       "style": "IPY_MODEL_c22d1f0ce97b43a5860e7d861a6afa51",
       "value": "100%"
      }
     },
     "668908c19c534b93bc14776a73303bb5": {
      "model_module": "@jupyter-widgets/controls",
      "model_module_version": "1.5.0",
      "model_name": "HBoxModel",
      "state": {
       "_dom_classes": [],
       "_model_module": "@jupyter-widgets/controls",
       "_model_module_version": "1.5.0",
       "_model_name": "HBoxModel",
       "_view_count": null,
       "_view_module": "@jupyter-widgets/controls",
       "_view_module_version": "1.5.0",
       "_view_name": "HBoxView",
       "box_style": "",
       "children": [
        "IPY_MODEL_60a402a24361422c9a847a595655b077",
        "IPY_MODEL_7dddb135bd554567b22d87edda650603",
        "IPY_MODEL_a1ed8bf98421427d86204acc99b63f6e"
       ],
       "layout": "IPY_MODEL_f2ff5ae943d949d2a701f0d999d45a06"
      }
     },
     "69f9ddbe58044ed6bc08691fef9cfe6a": {
      "model_module": "@jupyter-widgets/base",
      "model_module_version": "1.2.0",
      "model_name": "LayoutModel",
      "state": {
       "_model_module": "@jupyter-widgets/base",
       "_model_module_version": "1.2.0",
       "_model_name": "LayoutModel",
       "_view_count": null,
       "_view_module": "@jupyter-widgets/base",
       "_view_module_version": "1.2.0",
       "_view_name": "LayoutView",
       "align_content": null,
       "align_items": null,
       "align_self": null,
       "border": null,
       "bottom": null,
       "display": null,
       "flex": null,
       "flex_flow": null,
       "grid_area": null,
       "grid_auto_columns": null,
       "grid_auto_flow": null,
       "grid_auto_rows": null,
       "grid_column": null,
       "grid_gap": null,
       "grid_row": null,
       "grid_template_areas": null,
       "grid_template_columns": null,
       "grid_template_rows": null,
       "height": null,
       "justify_content": null,
       "justify_items": null,
       "left": null,
       "margin": null,
       "max_height": null,
       "max_width": null,
       "min_height": null,
       "min_width": null,
       "object_fit": null,
       "object_position": null,
       "order": null,
       "overflow": null,
       "overflow_x": null,
       "overflow_y": null,
       "padding": null,
       "right": null,
       "top": null,
       "visibility": null,
       "width": null
      }
     },
     "6b6eb23646af4040b960c50e5865f433": {
      "model_module": "@jupyter-widgets/controls",
      "model_module_version": "1.5.0",
      "model_name": "DescriptionStyleModel",
      "state": {
       "_model_module": "@jupyter-widgets/controls",
       "_model_module_version": "1.5.0",
       "_model_name": "DescriptionStyleModel",
       "_view_count": null,
       "_view_module": "@jupyter-widgets/base",
       "_view_module_version": "1.2.0",
       "_view_name": "StyleView",
       "description_width": ""
      }
     },
     "6babdeaf36484a75bb54f7c834046528": {
      "model_module": "@jupyter-widgets/controls",
      "model_module_version": "1.5.0",
      "model_name": "DescriptionStyleModel",
      "state": {
       "_model_module": "@jupyter-widgets/controls",
       "_model_module_version": "1.5.0",
       "_model_name": "DescriptionStyleModel",
       "_view_count": null,
       "_view_module": "@jupyter-widgets/base",
       "_view_module_version": "1.2.0",
       "_view_name": "StyleView",
       "description_width": ""
      }
     },
     "72e7c1ef06614469bf0dcfa0d05ca619": {
      "model_module": "@jupyter-widgets/base",
      "model_module_version": "1.2.0",
      "model_name": "LayoutModel",
      "state": {
       "_model_module": "@jupyter-widgets/base",
       "_model_module_version": "1.2.0",
       "_model_name": "LayoutModel",
       "_view_count": null,
       "_view_module": "@jupyter-widgets/base",
       "_view_module_version": "1.2.0",
       "_view_name": "LayoutView",
       "align_content": null,
       "align_items": null,
       "align_self": null,
       "border": null,
       "bottom": null,
       "display": null,
       "flex": null,
       "flex_flow": null,
       "grid_area": null,
       "grid_auto_columns": null,
       "grid_auto_flow": null,
       "grid_auto_rows": null,
       "grid_column": null,
       "grid_gap": null,
       "grid_row": null,
       "grid_template_areas": null,
       "grid_template_columns": null,
       "grid_template_rows": null,
       "height": null,
       "justify_content": null,
       "justify_items": null,
       "left": null,
       "margin": null,
       "max_height": null,
       "max_width": null,
       "min_height": null,
       "min_width": null,
       "object_fit": null,
       "object_position": null,
       "order": null,
       "overflow": null,
       "overflow_x": null,
       "overflow_y": null,
       "padding": null,
       "right": null,
       "top": null,
       "visibility": null,
       "width": null
      }
     },
     "78fd1cc926a14eeba73c92d435e86ea7": {
      "model_module": "@jupyter-widgets/controls",
      "model_module_version": "1.5.0",
      "model_name": "HTMLModel",
      "state": {
       "_dom_classes": [],
       "_model_module": "@jupyter-widgets/controls",
       "_model_module_version": "1.5.0",
       "_model_name": "HTMLModel",
       "_view_count": null,
       "_view_module": "@jupyter-widgets/controls",
       "_view_module_version": "1.5.0",
       "_view_name": "HTMLView",
       "description": "",
       "description_tooltip": null,
       "layout": "IPY_MODEL_ebb8880ecd544cea80c781c9602e6cc7",
       "placeholder": "​",
       "style": "IPY_MODEL_90b9cab9d91e4a22927c4e64db6a1089",
       "value": " 3/3 [00:03&lt;00:00,  1.14s/it]"
      }
     },
     "7dddb135bd554567b22d87edda650603": {
      "model_module": "@jupyter-widgets/controls",
      "model_module_version": "1.5.0",
      "model_name": "FloatProgressModel",
      "state": {
       "_dom_classes": [],
       "_model_module": "@jupyter-widgets/controls",
       "_model_module_version": "1.5.0",
       "_model_name": "FloatProgressModel",
       "_view_count": null,
       "_view_module": "@jupyter-widgets/controls",
       "_view_module_version": "1.5.0",
       "_view_name": "ProgressView",
       "bar_style": "success",
       "description": "",
       "description_tooltip": null,
       "layout": "IPY_MODEL_0d31f2e392264d2eb3fa3f47d5cf4587",
       "max": 172,
       "min": 0,
       "orientation": "horizontal",
       "style": "IPY_MODEL_52fad30dc42d4009af1b23b6f392629b",
       "value": 172
      }
     },
     "81bf6a2eadfc420caed8b87ef3129600": {
      "model_module": "@jupyter-widgets/controls",
      "model_module_version": "1.5.0",
      "model_name": "FloatProgressModel",
      "state": {
       "_dom_classes": [],
       "_model_module": "@jupyter-widgets/controls",
       "_model_module_version": "1.5.0",
       "_model_name": "FloatProgressModel",
       "_view_count": null,
       "_view_module": "@jupyter-widgets/controls",
       "_view_module_version": "1.5.0",
       "_view_name": "ProgressView",
       "bar_style": "success",
       "description": "",
       "description_tooltip": null,
       "layout": "IPY_MODEL_30dba422a95d4b15be942a17d8cfda39",
       "max": 3,
       "min": 0,
       "orientation": "horizontal",
       "style": "IPY_MODEL_255157df522742b4b58038a4c837a2ae",
       "value": 3
      }
     },
     "90b9cab9d91e4a22927c4e64db6a1089": {
      "model_module": "@jupyter-widgets/controls",
      "model_module_version": "1.5.0",
      "model_name": "DescriptionStyleModel",
      "state": {
       "_model_module": "@jupyter-widgets/controls",
       "_model_module_version": "1.5.0",
       "_model_name": "DescriptionStyleModel",
       "_view_count": null,
       "_view_module": "@jupyter-widgets/base",
       "_view_module_version": "1.2.0",
       "_view_name": "StyleView",
       "description_width": ""
      }
     },
     "9d7d4e38c935431d9b0f8661a2234b92": {
      "model_module": "@jupyter-widgets/base",
      "model_module_version": "1.2.0",
      "model_name": "LayoutModel",
      "state": {
       "_model_module": "@jupyter-widgets/base",
       "_model_module_version": "1.2.0",
       "_model_name": "LayoutModel",
       "_view_count": null,
       "_view_module": "@jupyter-widgets/base",
       "_view_module_version": "1.2.0",
       "_view_name": "LayoutView",
       "align_content": null,
       "align_items": null,
       "align_self": null,
       "border": null,
       "bottom": null,
       "display": null,
       "flex": null,
       "flex_flow": null,
       "grid_area": null,
       "grid_auto_columns": null,
       "grid_auto_flow": null,
       "grid_auto_rows": null,
       "grid_column": null,
       "grid_gap": null,
       "grid_row": null,
       "grid_template_areas": null,
       "grid_template_columns": null,
       "grid_template_rows": null,
       "height": null,
       "justify_content": null,
       "justify_items": null,
       "left": null,
       "margin": null,
       "max_height": null,
       "max_width": null,
       "min_height": null,
       "min_width": null,
       "object_fit": null,
       "object_position": null,
       "order": null,
       "overflow": null,
       "overflow_x": null,
       "overflow_y": null,
       "padding": null,
       "right": null,
       "top": null,
       "visibility": null,
       "width": null
      }
     },
     "9f2d402fa9734f52baa9588ab06b1e1d": {
      "model_module": "@jupyter-widgets/controls",
      "model_module_version": "1.5.0",
      "model_name": "FloatProgressModel",
      "state": {
       "_dom_classes": [],
       "_model_module": "@jupyter-widgets/controls",
       "_model_module_version": "1.5.0",
       "_model_name": "FloatProgressModel",
       "_view_count": null,
       "_view_module": "@jupyter-widgets/controls",
       "_view_module_version": "1.5.0",
       "_view_name": "ProgressView",
       "bar_style": "success",
       "description": "",
       "description_tooltip": null,
       "layout": "IPY_MODEL_a6a59d4f8d574e1083b9d3f965f2a85c",
       "max": 87,
       "min": 0,
       "orientation": "horizontal",
       "style": "IPY_MODEL_b0723a6924914fdd937f5ad300e3bc2b",
       "value": 87
      }
     },
     "a1ed8bf98421427d86204acc99b63f6e": {
      "model_module": "@jupyter-widgets/controls",
      "model_module_version": "1.5.0",
      "model_name": "HTMLModel",
      "state": {
       "_dom_classes": [],
       "_model_module": "@jupyter-widgets/controls",
       "_model_module_version": "1.5.0",
       "_model_name": "HTMLModel",
       "_view_count": null,
       "_view_module": "@jupyter-widgets/controls",
       "_view_module_version": "1.5.0",
       "_view_name": "HTMLView",
       "description": "",
       "description_tooltip": null,
       "layout": "IPY_MODEL_ae32dba84eb049e2a0c75acce014054d",
       "placeholder": "​",
       "style": "IPY_MODEL_6babdeaf36484a75bb54f7c834046528",
       "value": " 172/172 [25:57&lt;00:00,  6.97s/it]"
      }
     },
     "a60fe0cc4afe4a2db1f9f0d4551da90b": {
      "model_module": "@jupyter-widgets/base",
      "model_module_version": "1.2.0",
      "model_name": "LayoutModel",
      "state": {
       "_model_module": "@jupyter-widgets/base",
       "_model_module_version": "1.2.0",
       "_model_name": "LayoutModel",
       "_view_count": null,
       "_view_module": "@jupyter-widgets/base",
       "_view_module_version": "1.2.0",
       "_view_name": "LayoutView",
       "align_content": null,
       "align_items": null,
       "align_self": null,
       "border": null,
       "bottom": null,
       "display": null,
       "flex": null,
       "flex_flow": null,
       "grid_area": null,
       "grid_auto_columns": null,
       "grid_auto_flow": null,
       "grid_auto_rows": null,
       "grid_column": null,
       "grid_gap": null,
       "grid_row": null,
       "grid_template_areas": null,
       "grid_template_columns": null,
       "grid_template_rows": null,
       "height": null,
       "justify_content": null,
       "justify_items": null,
       "left": null,
       "margin": null,
       "max_height": null,
       "max_width": null,
       "min_height": null,
       "min_width": null,
       "object_fit": null,
       "object_position": null,
       "order": null,
       "overflow": null,
       "overflow_x": null,
       "overflow_y": null,
       "padding": null,
       "right": null,
       "top": null,
       "visibility": null,
       "width": null
      }
     },
     "a6a59d4f8d574e1083b9d3f965f2a85c": {
      "model_module": "@jupyter-widgets/base",
      "model_module_version": "1.2.0",
      "model_name": "LayoutModel",
      "state": {
       "_model_module": "@jupyter-widgets/base",
       "_model_module_version": "1.2.0",
       "_model_name": "LayoutModel",
       "_view_count": null,
       "_view_module": "@jupyter-widgets/base",
       "_view_module_version": "1.2.0",
       "_view_name": "LayoutView",
       "align_content": null,
       "align_items": null,
       "align_self": null,
       "border": null,
       "bottom": null,
       "display": null,
       "flex": null,
       "flex_flow": null,
       "grid_area": null,
       "grid_auto_columns": null,
       "grid_auto_flow": null,
       "grid_auto_rows": null,
       "grid_column": null,
       "grid_gap": null,
       "grid_row": null,
       "grid_template_areas": null,
       "grid_template_columns": null,
       "grid_template_rows": null,
       "height": null,
       "justify_content": null,
       "justify_items": null,
       "left": null,
       "margin": null,
       "max_height": null,
       "max_width": null,
       "min_height": null,
       "min_width": null,
       "object_fit": null,
       "object_position": null,
       "order": null,
       "overflow": null,
       "overflow_x": null,
       "overflow_y": null,
       "padding": null,
       "right": null,
       "top": null,
       "visibility": null,
       "width": null
      }
     },
     "a713ca2be7224c4fbda7da14d91b957c": {
      "model_module": "@jupyter-widgets/base",
      "model_module_version": "1.2.0",
      "model_name": "LayoutModel",
      "state": {
       "_model_module": "@jupyter-widgets/base",
       "_model_module_version": "1.2.0",
       "_model_name": "LayoutModel",
       "_view_count": null,
       "_view_module": "@jupyter-widgets/base",
       "_view_module_version": "1.2.0",
       "_view_name": "LayoutView",
       "align_content": null,
       "align_items": null,
       "align_self": null,
       "border": null,
       "bottom": null,
       "display": null,
       "flex": null,
       "flex_flow": null,
       "grid_area": null,
       "grid_auto_columns": null,
       "grid_auto_flow": null,
       "grid_auto_rows": null,
       "grid_column": null,
       "grid_gap": null,
       "grid_row": null,
       "grid_template_areas": null,
       "grid_template_columns": null,
       "grid_template_rows": null,
       "height": null,
       "justify_content": null,
       "justify_items": null,
       "left": null,
       "margin": null,
       "max_height": null,
       "max_width": null,
       "min_height": null,
       "min_width": null,
       "object_fit": null,
       "object_position": null,
       "order": null,
       "overflow": null,
       "overflow_x": null,
       "overflow_y": null,
       "padding": null,
       "right": null,
       "top": null,
       "visibility": null,
       "width": null
      }
     },
     "ae32dba84eb049e2a0c75acce014054d": {
      "model_module": "@jupyter-widgets/base",
      "model_module_version": "1.2.0",
      "model_name": "LayoutModel",
      "state": {
       "_model_module": "@jupyter-widgets/base",
       "_model_module_version": "1.2.0",
       "_model_name": "LayoutModel",
       "_view_count": null,
       "_view_module": "@jupyter-widgets/base",
       "_view_module_version": "1.2.0",
       "_view_name": "LayoutView",
       "align_content": null,
       "align_items": null,
       "align_self": null,
       "border": null,
       "bottom": null,
       "display": null,
       "flex": null,
       "flex_flow": null,
       "grid_area": null,
       "grid_auto_columns": null,
       "grid_auto_flow": null,
       "grid_auto_rows": null,
       "grid_column": null,
       "grid_gap": null,
       "grid_row": null,
       "grid_template_areas": null,
       "grid_template_columns": null,
       "grid_template_rows": null,
       "height": null,
       "justify_content": null,
       "justify_items": null,
       "left": null,
       "margin": null,
       "max_height": null,
       "max_width": null,
       "min_height": null,
       "min_width": null,
       "object_fit": null,
       "object_position": null,
       "order": null,
       "overflow": null,
       "overflow_x": null,
       "overflow_y": null,
       "padding": null,
       "right": null,
       "top": null,
       "visibility": null,
       "width": null
      }
     },
     "b0723a6924914fdd937f5ad300e3bc2b": {
      "model_module": "@jupyter-widgets/controls",
      "model_module_version": "1.5.0",
      "model_name": "ProgressStyleModel",
      "state": {
       "_model_module": "@jupyter-widgets/controls",
       "_model_module_version": "1.5.0",
       "_model_name": "ProgressStyleModel",
       "_view_count": null,
       "_view_module": "@jupyter-widgets/base",
       "_view_module_version": "1.2.0",
       "_view_name": "StyleView",
       "bar_color": null,
       "description_width": ""
      }
     },
     "b7acde5960314271a9de3b0b46ace356": {
      "model_module": "@jupyter-widgets/base",
      "model_module_version": "1.2.0",
      "model_name": "LayoutModel",
      "state": {
       "_model_module": "@jupyter-widgets/base",
       "_model_module_version": "1.2.0",
       "_model_name": "LayoutModel",
       "_view_count": null,
       "_view_module": "@jupyter-widgets/base",
       "_view_module_version": "1.2.0",
       "_view_name": "LayoutView",
       "align_content": null,
       "align_items": null,
       "align_self": null,
       "border": null,
       "bottom": null,
       "display": null,
       "flex": null,
       "flex_flow": null,
       "grid_area": null,
       "grid_auto_columns": null,
       "grid_auto_flow": null,
       "grid_auto_rows": null,
       "grid_column": null,
       "grid_gap": null,
       "grid_row": null,
       "grid_template_areas": null,
       "grid_template_columns": null,
       "grid_template_rows": null,
       "height": null,
       "justify_content": null,
       "justify_items": null,
       "left": null,
       "margin": null,
       "max_height": null,
       "max_width": null,
       "min_height": null,
       "min_width": null,
       "object_fit": null,
       "object_position": null,
       "order": null,
       "overflow": null,
       "overflow_x": null,
       "overflow_y": null,
       "padding": null,
       "right": null,
       "top": null,
       "visibility": null,
       "width": null
      }
     },
     "bda41f2f7fbf4db095595dfe32665eba": {
      "model_module": "@jupyter-widgets/controls",
      "model_module_version": "1.5.0",
      "model_name": "HBoxModel",
      "state": {
       "_dom_classes": [],
       "_model_module": "@jupyter-widgets/controls",
       "_model_module_version": "1.5.0",
       "_model_name": "HBoxModel",
       "_view_count": null,
       "_view_module": "@jupyter-widgets/controls",
       "_view_module_version": "1.5.0",
       "_view_name": "HBoxView",
       "box_style": "",
       "children": [
        "IPY_MODEL_6605291b43bc4a42a49e7abb86784a33",
        "IPY_MODEL_81bf6a2eadfc420caed8b87ef3129600",
        "IPY_MODEL_78fd1cc926a14eeba73c92d435e86ea7"
       ],
       "layout": "IPY_MODEL_b7acde5960314271a9de3b0b46ace356"
      }
     },
     "c22d1f0ce97b43a5860e7d861a6afa51": {
      "model_module": "@jupyter-widgets/controls",
      "model_module_version": "1.5.0",
      "model_name": "DescriptionStyleModel",
      "state": {
       "_model_module": "@jupyter-widgets/controls",
       "_model_module_version": "1.5.0",
       "_model_name": "DescriptionStyleModel",
       "_view_count": null,
       "_view_module": "@jupyter-widgets/base",
       "_view_module_version": "1.2.0",
       "_view_name": "StyleView",
       "description_width": ""
      }
     },
     "ce4b98eedb9944049098be065087c65a": {
      "model_module": "@jupyter-widgets/controls",
      "model_module_version": "1.5.0",
      "model_name": "HBoxModel",
      "state": {
       "_dom_classes": [],
       "_model_module": "@jupyter-widgets/controls",
       "_model_module_version": "1.5.0",
       "_model_name": "HBoxModel",
       "_view_count": null,
       "_view_module": "@jupyter-widgets/controls",
       "_view_module_version": "1.5.0",
       "_view_name": "HBoxView",
       "box_style": "",
       "children": [
        "IPY_MODEL_03435824cbec4073875d7fd4fa76f250",
        "IPY_MODEL_521d4ee2abe74a48b1b74fadcf4afd54",
        "IPY_MODEL_096f0632b9e74019ba042455bc6ed66c"
       ],
       "layout": "IPY_MODEL_2a3130c1efff4442b410989e7b0476c6"
      }
     },
     "db49b7df655d48d1835108f9d72afd94": {
      "model_module": "@jupyter-widgets/controls",
      "model_module_version": "1.5.0",
      "model_name": "DescriptionStyleModel",
      "state": {
       "_model_module": "@jupyter-widgets/controls",
       "_model_module_version": "1.5.0",
       "_model_name": "DescriptionStyleModel",
       "_view_count": null,
       "_view_module": "@jupyter-widgets/base",
       "_view_module_version": "1.2.0",
       "_view_name": "StyleView",
       "description_width": ""
      }
     },
     "ebb8880ecd544cea80c781c9602e6cc7": {
      "model_module": "@jupyter-widgets/base",
      "model_module_version": "1.2.0",
      "model_name": "LayoutModel",
      "state": {
       "_model_module": "@jupyter-widgets/base",
       "_model_module_version": "1.2.0",
       "_model_name": "LayoutModel",
       "_view_count": null,
       "_view_module": "@jupyter-widgets/base",
       "_view_module_version": "1.2.0",
       "_view_name": "LayoutView",
       "align_content": null,
       "align_items": null,
       "align_self": null,
       "border": null,
       "bottom": null,
       "display": null,
       "flex": null,
       "flex_flow": null,
       "grid_area": null,
       "grid_auto_columns": null,
       "grid_auto_flow": null,
       "grid_auto_rows": null,
       "grid_column": null,
       "grid_gap": null,
       "grid_row": null,
       "grid_template_areas": null,
       "grid_template_columns": null,
       "grid_template_rows": null,
       "height": null,
       "justify_content": null,
       "justify_items": null,
       "left": null,
       "margin": null,
       "max_height": null,
       "max_width": null,
       "min_height": null,
       "min_width": null,
       "object_fit": null,
       "object_position": null,
       "order": null,
       "overflow": null,
       "overflow_x": null,
       "overflow_y": null,
       "padding": null,
       "right": null,
       "top": null,
       "visibility": null,
       "width": null
      }
     },
     "ecd66be06a524c5abfe8a2c4bac89faa": {
      "model_module": "@jupyter-widgets/base",
      "model_module_version": "1.2.0",
      "model_name": "LayoutModel",
      "state": {
       "_model_module": "@jupyter-widgets/base",
       "_model_module_version": "1.2.0",
       "_model_name": "LayoutModel",
       "_view_count": null,
       "_view_module": "@jupyter-widgets/base",
       "_view_module_version": "1.2.0",
       "_view_name": "LayoutView",
       "align_content": null,
       "align_items": null,
       "align_self": null,
       "border": null,
       "bottom": null,
       "display": null,
       "flex": null,
       "flex_flow": null,
       "grid_area": null,
       "grid_auto_columns": null,
       "grid_auto_flow": null,
       "grid_auto_rows": null,
       "grid_column": null,
       "grid_gap": null,
       "grid_row": null,
       "grid_template_areas": null,
       "grid_template_columns": null,
       "grid_template_rows": null,
       "height": null,
       "justify_content": null,
       "justify_items": null,
       "left": null,
       "margin": null,
       "max_height": null,
       "max_width": null,
       "min_height": null,
       "min_width": null,
       "object_fit": null,
       "object_position": null,
       "order": null,
       "overflow": null,
       "overflow_x": null,
       "overflow_y": null,
       "padding": null,
       "right": null,
       "top": null,
       "visibility": null,
       "width": null
      }
     },
     "f2ff5ae943d949d2a701f0d999d45a06": {
      "model_module": "@jupyter-widgets/base",
      "model_module_version": "1.2.0",
      "model_name": "LayoutModel",
      "state": {
       "_model_module": "@jupyter-widgets/base",
       "_model_module_version": "1.2.0",
       "_model_name": "LayoutModel",
       "_view_count": null,
       "_view_module": "@jupyter-widgets/base",
       "_view_module_version": "1.2.0",
       "_view_name": "LayoutView",
       "align_content": null,
       "align_items": null,
       "align_self": null,
       "border": null,
       "bottom": null,
       "display": null,
       "flex": null,
       "flex_flow": null,
       "grid_area": null,
       "grid_auto_columns": null,
       "grid_auto_flow": null,
       "grid_auto_rows": null,
       "grid_column": null,
       "grid_gap": null,
       "grid_row": null,
       "grid_template_areas": null,
       "grid_template_columns": null,
       "grid_template_rows": null,
       "height": null,
       "justify_content": null,
       "justify_items": null,
       "left": null,
       "margin": null,
       "max_height": null,
       "max_width": null,
       "min_height": null,
       "min_width": null,
       "object_fit": null,
       "object_position": null,
       "order": null,
       "overflow": null,
       "overflow_x": null,
       "overflow_y": null,
       "padding": null,
       "right": null,
       "top": null,
       "visibility": null,
       "width": null
      }
     },
     "f6d20f7e09114ef680ec1e680dd6b6e9": {
      "model_module": "@jupyter-widgets/controls",
      "model_module_version": "1.5.0",
      "model_name": "HTMLModel",
      "state": {
       "_dom_classes": [],
       "_model_module": "@jupyter-widgets/controls",
       "_model_module_version": "1.5.0",
       "_model_name": "HTMLModel",
       "_view_count": null,
       "_view_module": "@jupyter-widgets/controls",
       "_view_module_version": "1.5.0",
       "_view_name": "HTMLView",
       "description": "",
       "description_tooltip": null,
       "layout": "IPY_MODEL_a60fe0cc4afe4a2db1f9f0d4551da90b",
       "placeholder": "​",
       "style": "IPY_MODEL_25e6ab255c4f41f9889b1bdf532e43b0",
       "value": "100%"
      }
     },
     "ff9d162fbeee45a583421104b97bd08d": {
      "model_module": "@jupyter-widgets/controls",
      "model_module_version": "1.5.0",
      "model_name": "DescriptionStyleModel",
      "state": {
       "_model_module": "@jupyter-widgets/controls",
       "_model_module_version": "1.5.0",
       "_model_name": "DescriptionStyleModel",
       "_view_count": null,
       "_view_module": "@jupyter-widgets/base",
       "_view_module_version": "1.2.0",
       "_view_name": "StyleView",
       "description_width": ""
      }
     }
    },
    "version_major": 2,
    "version_minor": 0
   }
  }
 },
 "nbformat": 4,
 "nbformat_minor": 5
}
